{
 "cells": [
  {
   "cell_type": "code",
   "execution_count": 17,
   "id": "17d95a62-5859-47f1-a348-18f14bc8e081",
   "metadata": {},
   "outputs": [],
   "source": [
    "def rembolso():\n",
    "    global pantalla5\n",
    "    pantalla5=Toplevel(pantalla3)\n",
    "    pantalla5.title(\"rembolso\")\n",
    "    pantalla5.geometry(\"1000x1000\")\n",
    "    Label(pantalla5, text=\"rembolso\").pack()\n",
    "    \n",
    "\n",
    "def cambio():\n",
    "    global pantalla6\n",
    "    print(\"Función cambio llamada\")\n",
    "    pantalla6=Toplevel(pantalla3)\n",
    "    pantalla6.title(\"cambio\")\n",
    "    pantalla6.geometry(\"1000x1000\")\n",
    "    Label(pantalla6, text=\"cambio\").pack()\n",
    "   \n",
    "\n",
    "def AT():\n",
    "    global pantalla4\n",
    "    pantalla4=Toplevel(pantalla3)\n",
    "    pantalla4.title(\"atencion a clientes\")\n",
    "    pantalla4.geometry(\"1000x1000\")\n",
    "    Label(pantalla4, text=\"at\").pack()\n",
    "  \n"
   ]
  },
  {
   "cell_type": "code",
   "execution_count": 18,
   "id": "37f6a3d5-9868-4736-8405-4f952e266df5",
   "metadata": {},
   "outputs": [],
   "source": [
    "import pandas as pd\n",
    "mydf = pd.read_excel(r\"C:\\Users\\devaj\\Downloads\\medidas.xlsx\")\n",
    "mydf.shape\n",
    "import re\n",
    "\n",
    "def limpiar_funcion(texto):\n",
    "    return re.sub(r'\\d+\\.\\s*\"([^\"]*)\"\\s+\\d+\\.\\s*([^\"]*)', r'\\1 \\2', texto)\n",
    "def quitar_numero_y_punto(texto):\n",
    "    return re.sub(r'^\\d+\\.\\s*', '', texto)\n",
    "mydf[\"xtrain\"]=mydf[\"xtrain\"].apply(limpiar_funcion)\n",
    "mydf[\"ytrain\"]=mydf[\"ytrain\"].apply(quitar_numero_y_punto)\n",
    "from sklearn.model_selection import train_test_split\n",
    "x = mydf[\"xtrain\"]\n",
    "y = mydf[\"ytrain\"]\n"
   ]
  },
  {
   "cell_type": "code",
   "execution_count": 19,
   "id": "70c58846-2b6d-40c3-a773-7df3efa0f4fa",
   "metadata": {},
   "outputs": [
    {
     "name": "stdout",
     "output_type": "stream",
     "text": [
      "Accuracy: 0.55\n"
     ]
    },
    {
     "data": {
      "text/plain": [
       "['modelito']"
      ]
     },
     "execution_count": 19,
     "metadata": {},
     "output_type": "execute_result"
    }
   ],
   "source": [
    "import pandas as pd\n",
    "from sklearn.feature_extraction.text import TfidfVectorizer\n",
    "from sklearn.model_selection import train_test_split\n",
    "from sklearn.linear_model import LogisticRegression\n",
    "from sklearn.metrics import accuracy_score\n",
    "import joblib\n",
    "\n",
    "# Supongamos que 'x_train' contiene tus textos y 'y_train' contiene las etiquetas correspondientes.\n",
    "\n",
    "# Paso 1: Preprocesamiento de texto (si es necesario)\n",
    "# Dependiendo de tus datos, es posible que necesites realizar tareas como eliminación de stopwords, lematización, etc.\n",
    "\n",
    "# Paso 2: Convertir texto a características numéricas usando TF-IDF\n",
    "tfidf_vectorizer = TfidfVectorizer(max_features=1000)  # Puedes ajustar el número máximo de características según tus necesidades\n",
    "X = tfidf_vectorizer.fit_transform(x)\n",
    "\n",
    "# Paso 3: Dividir el conjunto de datos en entrenamiento y prueba\n",
    "X_train, X_test, y_train, y_test = train_test_split(X, y, test_size=0.2, random_state=42)\n",
    "\n",
    "# Paso 4: Entrenar el clasificador (por ejemplo, Logistic Regression)\n",
    "classifier = LogisticRegression(max_iter=1000)  # Puedes ajustar los hiperparámetros según sea necesario\n",
    "classifier.fit(X_train, y_train)\n",
    "\n",
    "# Paso 5: Realizar predicciones\n",
    "y_pred = classifier.predict(X_test)\n",
    "\n",
    "# Paso 6: Evaluar el rendimiento del modelo\n",
    "accuracy = accuracy_score(y_test, y_pred)\n",
    "print(f'Accuracy: {accuracy}')\n",
    "\n",
    "# Ahora puedes usar 'classifier' para hacer predicciones en nuevos textos.\n",
    "joblib.dump(classifier ,\"modelito\")\n"
   ]
  },
  {
   "cell_type": "code",
   "execution_count": 20,
   "id": "8b906d28-aa79-4311-9fff-cc344585173c",
   "metadata": {},
   "outputs": [],
   "source": [
    "def Quejas_Producto():\n",
    "    global Aceptar\n",
    "    global entrada\n",
    "    global pantalla2\n",
    "    queja = StringVar()\n",
    "    pantalla2 = Toplevel(pantalla1)\n",
    "    pantalla2.title(\"quejas del producto\")\n",
    "    pantalla2.geometry(\"1000x1000\")\n",
    "    Label(pantalla2 , text  = \" de que producto deseas realizar la queja\").pack()\n",
    "    Button(pantalla2 , text=\"Aceptar\" , command = Aceptar).pack()\n",
    "    \n",
    "    entrada =Entry(pantalla2, textvariable = queja)\n",
    "    entrada.pack()\n",
    "\n",
    "   \n",
    "    for i, producto in enumerate(lista_imagenes):\n",
    "        img = Image.open(producto[\"productoimg\"])\n",
    "        img = img.resize((100, 100))\n",
    "        img = ImageTk.PhotoImage(img)\n",
    "        label = Label(pantalla2, image=img, text=producto[\"descripcion\"], compound=\"top\")\n",
    "        label.image = img\n",
    "        label.pack(side=\"left\", padx=10, pady=10)\n",
    "\n",
    "    \n",
    "   \n",
    "\n",
    "    \n"
   ]
  },
  {
   "cell_type": "code",
   "execution_count": 21,
   "id": "19485e20-b26b-4d6f-9a09-6ab51db6dd76",
   "metadata": {},
   "outputs": [],
   "source": [
    "def Aceptar():\n",
    "  \n",
    "    global queja\n",
    "    global textc\n",
    "    queja = entrada.get()\n",
    "    textc = None\n",
    "    for i in range(len(lista_imagenes)):\n",
    "        if queja in lista_imagenes[i][\"descripcion\"]:\n",
    "            \n",
    "            textc = lista_imagenes[i][\"descripcion\"]\n",
    "            Quejasdelproducto()\n",
    "    "
   ]
  },
  {
   "cell_type": "code",
   "execution_count": 22,
   "id": "2e2fde0e-cbd1-4b26-9dc8-27f76e5bf773",
   "metadata": {},
   "outputs": [],
   "source": [
    "def Sistem():\n",
    "    Label(pantalla3 ,text=\"Sistem llamada\").pack()\n",
    "    prediccion = joblib.load(\"modelito\")\n",
    "    x_nuevo = tfidf_vectorizer.transform([peticion.get()])\n",
    "    prediccion = classifier.predict(x_nuevo)\n",
    "    Label(pantalla3 ,text=prediccion).pack()\n",
    "    print(f\"Predicción: {prediccion[0]}\")\n",
    "    if prediccion[0] == \"rembolso\":\n",
    "        Label(pantalla3, text=\"Rembolso\").pack()\n",
    "        rembolso()\n",
    "    elif prediccion[0] == \"cambio por uno nuevo\":\n",
    "        Label(pantalla3, text=\"cambio por uno nuevo\").pack()\n",
    "        cambio()\n",
    "    elif prediccion[0] == \"atencion al cliente\":\n",
    "        Label(pantalla3, text=\"atencion al cliente\").pack()\n",
    "        AT()"
   ]
  },
  {
   "cell_type": "code",
   "execution_count": null,
   "id": "18b68352-2da6-4dd5-90cc-5070eddde83f",
   "metadata": {
    "scrolled": true
   },
   "outputs": [],
   "source": [
    "def Quejasdelproducto():\n",
    "    global peticion\n",
    "    global pantalla3\n",
    "    peticion = StringVar()\n",
    "    \n",
    "    pantalla3=Toplevel(pantalla2)\n",
    " \n",
    "\n",
    "    pantalla3.title(\"quejas defl :\")\n",
    "    pantalla3.geometry(\"900x900\")\n",
    "    Label(pantalla3 , text = \"escribe tu queja hacia el producto \"+textc).pack()\n",
    "    Entry(pantalla3 , textvariable = peticion).pack()\n",
    "    Button(pantalla3 , text=\"aceptar\", command = Sistem).pack()"
   ]
  },
  {
   "cell_type": "code",
   "execution_count": null,
   "id": "27d3e38c-1a03-4688-b7af-9d73aa2cc272",
   "metadata": {},
   "outputs": [
    {
     "name": "stdout",
     "output_type": "stream",
     "text": [
      "Predicción: Cambio por uno nuevo\n"
     ]
    }
   ],
   "source": [
    "from tkinter import *\n",
    "from PIL import Image, ImageTk\n",
    "\n",
    "def Productos_Pedidos():\n",
    "    global pantalla1\n",
    "    global lista_imagenes\n",
    "    pantalla1 = Toplevel(pantalla)\n",
    "    pantalla1.title(\"Mis productos\")\n",
    "    pantalla1.geometry(\"900x900\")\n",
    "    Button(pantalla1 , text=\"quejas del producto\" , command =Quejas_Producto).pack()\n",
    "\n",
    "    Label(pantalla1 , text = \"estos son tus productos pedidos\").pack()\n",
    "\n",
    "    lista_imagenes = [\n",
    "        {\"productoimg\": r\"C:\\Users\\devaj\\Downloads\\xbox.jpg\", \"descripcion\": \"xbox\"},\n",
    "        {\"productoimg\": r\"C:\\Users\\devaj\\Downloads\\play.jpg\", \"descripcion\": \"play\"},\n",
    "        {\"productoimg\": r\"C:\\Users\\devaj\\Downloads\\pelota.jpg\", \"descripcion\": \"pelota\"},\n",
    "        {\"productoimg\": r\"C:\\Users\\devaj\\Downloads\\nintendo.jpg\", \"descripcion\": \"nintendo\"}\n",
    "    ]\n",
    "\n",
    "  \n",
    "    for i, producto in enumerate(lista_imagenes):\n",
    "        img = Image.open(producto[\"productoimg\"])\n",
    "        img = img.resize((100, 100))\n",
    "        img = ImageTk.PhotoImage(img)\n",
    "        label = Label(pantalla1, image=img, text=producto[\"descripcion\"], compound=\"top\")\n",
    "        label.image = img\n",
    "        label.pack(side=\"left\", padx=10, pady=10)\n",
    "\n",
    "# Crear la ventana principal\n",
    "pantalla = Tk()\n",
    "pantalla.title(\"Opinion sobre Productos\")\n",
    "pantalla.geometry(\"400x500\")\n",
    "\n",
    "# Botón para abrir la ventana de productos\n",
    "Button(pantalla , text=\"Mis Productos\" , command = Productos_Pedidos).pack()\n",
    "\n",
    "# Iniciar el bucle principal de la aplicación\n",
    "pantalla.mainloop()\n",
    "\n"
   ]
  },
  {
   "cell_type": "code",
   "execution_count": null,
   "id": "7bedfdb8-f958-4b85-bd39-d7f2241c195c",
   "metadata": {},
   "outputs": [],
   "source": []
  },
  {
   "cell_type": "code",
   "execution_count": null,
   "id": "630a85af-f930-4951-a5a6-31d53d54c1e8",
   "metadata": {},
   "outputs": [],
   "source": []
  },
  {
   "cell_type": "code",
   "execution_count": null,
   "id": "e0bc469a-3a8c-49b6-b162-56f5d31e632f",
   "metadata": {},
   "outputs": [],
   "source": []
  },
  {
   "cell_type": "code",
   "execution_count": null,
   "id": "b3a15b5f-65d9-40f4-8565-405d62aabe22",
   "metadata": {},
   "outputs": [],
   "source": []
  },
  {
   "cell_type": "code",
   "execution_count": 39,
   "id": "4d484e65-3ea4-4752-a385-785f7f528e04",
   "metadata": {},
   "outputs": [],
   "source": [
    "import joblib"
   ]
  },
  {
   "cell_type": "code",
   "execution_count": 2,
   "id": "3a01b86e-d556-430e-b783-b1b7a922c15d",
   "metadata": {},
   "outputs": [
    {
     "ename": "SyntaxError",
     "evalue": "invalid syntax (471256413.py, line 1)",
     "output_type": "error",
     "traceback": [
      "\u001b[1;36m  Cell \u001b[1;32mIn[2], line 1\u001b[1;36m\u001b[0m\n\u001b[1;33m    jupyter nbconvert --to html Untitled19.ipynb\u001b[0m\n\u001b[1;37m            ^\u001b[0m\n\u001b[1;31mSyntaxError\u001b[0m\u001b[1;31m:\u001b[0m invalid syntax\n"
     ]
    }
   ],
   "source": [
    "\n"
   ]
  },
  {
   "cell_type": "code",
   "execution_count": null,
   "id": "43dc4ac6-42e5-4382-b9c7-e9075a5c64ee",
   "metadata": {},
   "outputs": [],
   "source": []
  }
 ],
 "metadata": {
  "kernelspec": {
   "display_name": "Python 3 (ipykernel)",
   "language": "python",
   "name": "python3"
  },
  "language_info": {
   "codemirror_mode": {
    "name": "ipython",
    "version": 3
   },
   "file_extension": ".py",
   "mimetype": "text/x-python",
   "name": "python",
   "nbconvert_exporter": "python",
   "pygments_lexer": "ipython3",
   "version": "3.11.4"
  }
 },
 "nbformat": 4,
 "nbformat_minor": 5
}
